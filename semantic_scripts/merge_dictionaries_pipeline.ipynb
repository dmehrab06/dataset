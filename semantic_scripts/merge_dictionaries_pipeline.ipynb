{
 "cells": [
  {
   "cell_type": "code",
   "execution_count": 1,
   "metadata": {},
   "outputs": [],
   "source": [
    "import os\n",
    "import sys\n",
    "#change this to py file\n",
    "\n",
    "month = \"06\" # take as argument\n",
    "day = \"21\"\n",
    "\n",
    "out_dir = '/project/biocomplexity/data/XMode/evaluation/US_data_semantic/'+month+'/'+day+'/raw_dict/'\n",
    "\n",
    "args = []\n",
    "dep = []\n",
    "\n",
    "for file in os.listdir(out_dir):\n",
    "    if file.endswith('dict') and file.startswith('part'):\n",
    "        #if not os.path.isfile(out_dir+file):\n",
    "        args.append(file)\n",
    "        dep.append('none')\n",
    "\n",
    "args = args[0:11]\n",
    "dep = dep[0:11]\n",
    "cursize = len(args)\n",
    "curlevel = 1\n"
   ]
  },
  {
   "cell_type": "raw",
   "metadata": {},
   "source": [
    "useful commands\n",
    "\n",
    "sbatch --dependency=afterany:$jobid00:$jobid01:$jobid02:$jobid03:$jobid04:$jobid05:$jobid06:$jobid07 ab_char.sbatch $1\n",
    "grep_ret=$(sbatch --dependency=afterany:$splitjobid grepDependency.sbatch $2)\n",
    "grep_arr=($grep_ret)\n",
    "grepjobid=${grep_arr[3]}\n",
    "#echo $grepjobid"
   ]
  },
  {
   "cell_type": "code",
   "execution_count": 2,
   "metadata": {},
   "outputs": [],
   "source": [
    "def get_dependency_string(dependency_array):\n",
    "    if len(dependency_array)==0:\n",
    "        return \"\"\n",
    "    else:\n",
    "        prefix = \"--dependency=afterany\"\n",
    "        for dep in dependency_array:\n",
    "            prefix = prefix+\":$\"\n",
    "            prefix = prefix+dep\n",
    "        return prefix"
   ]
  },
  {
   "cell_type": "code",
   "execution_count": 3,
   "metadata": {},
   "outputs": [
    {
     "name": "stdout",
     "output_type": "stream",
     "text": [
      "job_level_1_idx_0_ret=$(sbatch  merge_dictionaries.sbatch part-00002-80523996-d464-4425-9991-0b2462a666b0-c000.csv.aa.csv_dict.dict part-00016-80523996-d464-4425-9991-0b2462a666b0-c000.csv.ac.csv_dict.dict dict_level_1_job_0.dict 06 21)\n",
      "job_level_1_idx_0_arr=($job_level_1_idx_0_ret)\n",
      "job_level_1_idx_0_id=${job_level_1_idx_0_arr[3]}\n",
      "job_level_1_idx_2_ret=$(sbatch  merge_dictionaries.sbatch part-00034-80523996-d464-4425-9991-0b2462a666b0-c000.csv.ae.csv_dict.dict part-00137-80523996-d464-4425-9991-0b2462a666b0-c000.csv.ab.csv_dict.dict dict_level_1_job_2.dict 06 21)\n",
      "job_level_1_idx_2_arr=($job_level_1_idx_2_ret)\n",
      "job_level_1_idx_2_id=${job_level_1_idx_2_arr[3]}\n",
      "job_level_1_idx_4_ret=$(sbatch  merge_dictionaries.sbatch part-00186-80523996-d464-4425-9991-0b2462a666b0-c000.csv.ac.csv_dict.dict part-00140-80523996-d464-4425-9991-0b2462a666b0-c000.csv.ac.csv_dict.dict dict_level_1_job_4.dict 06 21)\n",
      "job_level_1_idx_4_arr=($job_level_1_idx_4_ret)\n",
      "job_level_1_idx_4_id=${job_level_1_idx_4_arr[3]}\n",
      "job_level_1_idx_6_ret=$(sbatch  merge_dictionaries.sbatch part-00072-80523996-d464-4425-9991-0b2462a666b0-c000.csv.af.csv_dict.dict part-00060-80523996-d464-4425-9991-0b2462a666b0-c000.csv.af.csv_dict.dict dict_level_1_job_6.dict 06 21)\n",
      "job_level_1_idx_6_arr=($job_level_1_idx_6_ret)\n",
      "job_level_1_idx_6_id=${job_level_1_idx_6_arr[3]}\n",
      "job_level_1_idx_8_ret=$(sbatch  merge_dictionaries.sbatch part-00028-80523996-d464-4425-9991-0b2462a666b0-c000.csv.af.csv_dict.dict part-00141-80523996-d464-4425-9991-0b2462a666b0-c000.csv.aa.csv_dict.dict dict_level_1_job_8.dict 06 21)\n",
      "job_level_1_idx_8_arr=($job_level_1_idx_8_ret)\n",
      "job_level_1_idx_8_id=${job_level_1_idx_8_arr[3]}\n",
      "job_level_2_idx_0_ret=$(sbatch --dependency=afterany:$job_level_1_idx_0_id:$job_level_1_idx_2_id merge_dictionaries.sbatch dict_level_1_job_0.dict dict_level_1_job_2.dict dict_level_2_job_0.dict 06 21)\n",
      "job_level_2_idx_0_arr=($job_level_2_idx_0_ret)\n",
      "job_level_2_idx_0_id=${job_level_2_idx_0_arr[3]}\n",
      "job_level_2_idx_2_ret=$(sbatch --dependency=afterany:$job_level_1_idx_4_id:$job_level_1_idx_6_id merge_dictionaries.sbatch dict_level_1_job_4.dict dict_level_1_job_6.dict dict_level_2_job_2.dict 06 21)\n",
      "job_level_2_idx_2_arr=($job_level_2_idx_2_ret)\n",
      "job_level_2_idx_2_id=${job_level_2_idx_2_arr[3]}\n",
      "job_level_2_idx_4_ret=$(sbatch --dependency=afterany:$job_level_1_idx_8_id merge_dictionaries.sbatch dict_level_1_job_8.dict part-00103-80523996-d464-4425-9991-0b2462a666b0-c000.csv.ad.csv_dict.dict dict_level_2_job_4.dict 06 21)\n",
      "job_level_2_idx_4_arr=($job_level_2_idx_4_ret)\n",
      "job_level_2_idx_4_id=${job_level_2_idx_4_arr[3]}\n",
      "job_level_3_idx_0_ret=$(sbatch --dependency=afterany:$job_level_2_idx_0_id:$job_level_2_idx_2_id merge_dictionaries.sbatch dict_level_2_job_0.dict dict_level_2_job_2.dict dict_level_3_job_0.dict 06 21)\n",
      "job_level_3_idx_0_arr=($job_level_3_idx_0_ret)\n",
      "job_level_3_idx_0_id=${job_level_3_idx_0_arr[3]}\n",
      "job_level_4_idx_0_ret=$(sbatch --dependency=afterany:$job_level_3_idx_0_id merge_dictionaries.sbatch dict_level_3_job_0.dict dict_level_2_job_4.dict dict_level_4_job_0.dict 06 21)\n",
      "job_level_4_idx_0_arr=($job_level_4_idx_0_ret)\n",
      "job_level_4_idx_0_id=${job_level_4_idx_0_arr[3]}\n"
     ]
    }
   ],
   "source": [
    "while(cursize>1):\n",
    "    #print(cursize)\n",
    "    #print(args[0:cursize])\n",
    "    #print(dep[0:cursize])\n",
    "    nextsize = 0\n",
    "    for i in range(0,cursize,2):\n",
    "       # print(i)\n",
    "        dependencies = []\n",
    "        if (i+1)<cursize:\n",
    "            job_input_1 = args[i]\n",
    "            job_input_2 = args[i+1]\n",
    "            if dep[i]!='none':\n",
    "                dependencies.append(dep[i])\n",
    "            if dep[i+1]!='none':\n",
    "                dependencies.append(dep[i+1])\n",
    "            #add month and day to the commands#####################################################\n",
    "            job_output = \"dict_level_\"+str(curlevel)+\"_job_\"+str(i)+\".dict\"\n",
    "            sbatch_command = \"sbatch \"+get_dependency_string(dependencies)+\" merge_dictionaries.sbatch \"+job_input_1+\" \"+job_input_2+\" \"+job_output+\" \"+str(month)+\" \"+str(day)\n",
    "            job_ret_variable = \"job_level_\"+str(curlevel)+\"_idx_\"+str(i)+\"_ret\"\n",
    "            job_arr_variable = \"job_level_\"+str(curlevel)+\"_idx_\"+str(i)+\"_arr\"\n",
    "            job_id_variable = \"job_level_\"+str(curlevel)+\"_idx_\"+str(i)+\"_id\"\n",
    "            print(job_ret_variable+\"=$(\"+sbatch_command+\")\")\n",
    "            print(job_arr_variable+\"=($\"+job_ret_variable+\")\")\n",
    "            print(job_id_variable+\"=${\"+job_arr_variable+\"[3]}\")\n",
    "            \n",
    "            args[i//2] = job_output\n",
    "            dep[i//2] = job_id_variable\n",
    "            #do something\n",
    "        #args[i//2] = args[i]\n",
    "        else:\n",
    "            args[i//2] = args[i]\n",
    "            dep[i//2] = 'none'\n",
    "        nextsize = nextsize+1\n",
    "    cursize = nextsize\n",
    "    curlevel = curlevel+1\n",
    "    "
   ]
  },
  {
   "cell_type": "code",
   "execution_count": null,
   "metadata": {},
   "outputs": [],
   "source": []
  }
 ],
 "metadata": {
  "kernelspec": {
   "display_name": "Python [conda env:skmob]",
   "language": "python",
   "name": "skmob"
  },
  "language_info": {
   "codemirror_mode": {
    "name": "ipython",
    "version": 3
   },
   "file_extension": ".py",
   "mimetype": "text/x-python",
   "name": "python",
   "nbconvert_exporter": "python",
   "pygments_lexer": "ipython3",
   "version": "3.7.8"
  },
  "toc-autonumbering": true
 },
 "nbformat": 4,
 "nbformat_minor": 4
}
